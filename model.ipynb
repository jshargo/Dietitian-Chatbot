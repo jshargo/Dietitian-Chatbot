{
 "cells": [
  {
   "cell_type": "code",
   "execution_count": 11,
   "metadata": {},
   "outputs": [],
   "source": [
    "from langchain.document_loaders import HuggingFaceDatasetLoader\n",
    "from langchain.text_splitter import RecursiveCharacterTextSplitter\n",
    "from langchain.embeddings import HuggingFaceEmbeddings\n",
    "from langchain.vectorstores import FAISS\n",
    "from transformers import AutoTokenizer, AutoModelForQuestionAnswering\n",
    "from transformers import AutoTokenizer, pipeline\n",
    "from langchain import HuggingFacePipeline\n",
    "from langchain.chains import RetrievalQA"
   ]
  },
  {
   "cell_type": "code",
   "execution_count": 18,
   "metadata": {},
   "outputs": [
    {
     "name": "stderr",
     "output_type": "stream",
     "text": [
      "/Library/Frameworks/Python.framework/Versions/3.12/lib/python3.12/site-packages/datasets/load.py:2554: FutureWarning: 'use_auth_token' was deprecated in favor of 'token' in version 2.14.0 and will be removed in 3.0.0.\n",
      "You can remove this warning by passing 'token=<use_auth_token>' instead.\n",
      "  warnings.warn(\n",
      "Repo card metadata block was not found. Setting CardData to empty.\n"
     ]
    },
    {
     "data": {
      "text/plain": [
       "[Document(metadata={'Age': '25', 'Gender': 'Male', 'Height': '180', 'Activity Level': 'Moderately Active', 'Fitness Goal': 'Weight Loss', 'Dietary Preference': 'Omnivore', 'Daily Calorie Target': '2000', 'Protein': '120', 'Carbohydrates': '250', 'Fat': '60', 'Breakfast Suggestion': 'Oatmeal with berries and nuts', 'Lunch Suggestion': 'Grilled chicken salad with mixed greens', 'Dinner Suggestion': 'Salmon with roasted vegetables', 'Snack Suggestion': 'Greek yogurt with fruit'}, page_content='\"80\"'),\n",
       " Document(metadata={'Age': '32', 'Gender': 'Female', 'Height': '165', 'Activity Level': 'Lightly Active', 'Fitness Goal': 'Weight Loss', 'Dietary Preference': 'Vegetarian', 'Daily Calorie Target': '1600', 'Protein': '80', 'Carbohydrates': '200', 'Fat': '40', 'Breakfast Suggestion': 'Tofu scramble with veggies', 'Lunch Suggestion': 'Lentil soup with whole wheat bread', 'Dinner Suggestion': 'Vegetable stir-fry with brown rice', 'Snack Suggestion': 'Apple with almond butter'}, page_content='\"65\"')]"
      ]
     },
     "execution_count": 18,
     "metadata": {},
     "output_type": "execute_result"
    }
   ],
   "source": [
    "# Specify the dataset name and the column containing the content\n",
    "dataset_name = \"sarthak-wiz01/nutrition_dataset\"\n",
    "page_content_column = \"Weight\"  # or any other column you're interested in\n",
    "\n",
    "# Create a loader instance\n",
    "loader = HuggingFaceDatasetLoader(dataset_name, page_content_column)\n",
    "\n",
    "# Load the data\n",
    "data = loader.load()\n",
    "\n",
    "# Display the first 15 entries\n",
    "data[:2]"
   ]
  },
  {
   "cell_type": "code",
   "execution_count": 19,
   "metadata": {},
   "outputs": [],
   "source": [
    "# Create an instance of the RecursiveCharacterTextSplitter class with specific parameters.\n",
    "# It splits text into chunks of 1000 characters each with a 150-character overlap.\n",
    "text_splitter = RecursiveCharacterTextSplitter(chunk_size=1000, chunk_overlap=150)\n",
    "\n",
    "# 'data' holds the text you want to split, split the text into documents using the text splitter.\n",
    "docs = text_splitter.split_documents(data)"
   ]
  },
  {
   "cell_type": "code",
   "execution_count": null,
   "metadata": {},
   "outputs": [],
   "source": []
  }
 ],
 "metadata": {
  "kernelspec": {
   "display_name": "Python 3",
   "language": "python",
   "name": "python3"
  },
  "language_info": {
   "codemirror_mode": {
    "name": "ipython",
    "version": 3
   },
   "file_extension": ".py",
   "mimetype": "text/x-python",
   "name": "python",
   "nbconvert_exporter": "python",
   "pygments_lexer": "ipython3",
   "version": "3.12.1"
  },
  "orig_nbformat": 4
 },
 "nbformat": 4,
 "nbformat_minor": 2
}
